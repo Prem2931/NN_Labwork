{
 "cells": [
  {
   "cell_type": "code",
   "execution_count": 1,
   "id": "0e58e488",
   "metadata": {},
   "outputs": [],
   "source": [
    "import numpy as np\n",
    "\n",
    "# Perceptron class\n",
    "class Perceptron:\n",
    "    def __init__(self, input_size, learning_rate=0.01, epochs=1000):\n",
    "        self.weights = np.zeros(input_size)  # Initialize weights as zeros\n",
    "        self.bias = 0  # Initialize bias as 0\n",
    "        self.learning_rate = learning_rate\n",
    "        self.epochs = epochs"
   ]
  },
  {
   "cell_type": "code",
   "execution_count": 3,
   "id": "441ceac9",
   "metadata": {},
   "outputs": [],
   "source": [
    "# Activation function (Step function)\n",
    "def activation(self, x):\n",
    "    return 1 if x >= 0 else 0"
   ]
  },
  {
   "cell_type": "code",
   "execution_count": 5,
   "id": "fc277852",
   "metadata": {},
   "outputs": [],
   "source": [
    "# Training the perceptron\n",
    "def train(self, X, y):\n",
    "    for _ in range(self.epochs):\n",
    "            for inputs, label in zip(X, y):\n",
    "                # Calculate the weighted sum\n",
    "                weighted_sum = np.dot(inputs, self.weights) + self.bias\n",
    "                # Apply the activation function\n",
    "                prediction = self.activation(weighted_sum)\n",
    "                # Update weights and bias if there's an error\n",
    "                error = label - prediction\n",
    "                self.weights += self.learning_rate * error * inputs\n",
    "                self.bias += self.learning_rate * error\n"
   ]
  },
  {
   "cell_type": "code",
   "execution_count": 9,
   "id": "3f4b890d",
   "metadata": {
    "scrolled": true
   },
   "outputs": [],
   "source": [
    "# Predict output for new inputs\n",
    "def predict(self, X):\n",
    "    predictions = []\n",
    "    for inputs in X:\n",
    "        weighted_sum = np.dot(inputs, self.weights) + self.bias\n",
    "        predictions.append(self.activation(weighted_sum))\n",
    "        return predictions"
   ]
  },
  {
   "cell_type": "code",
   "execution_count": 10,
   "id": "c2596be6",
   "metadata": {},
   "outputs": [],
   "source": [
    "# Example usage\n",
    "if __name__ == \"__main__\":\n",
    "    # Training data (AND logic gate)\n",
    "    # Input data (X)\n",
    "    X = np.array([[0, 0], [0, 1], [1, 0], [1, 1]])\n",
    "    # Output labels (y)\n",
    "    y = np.array([0, 0, 0, 1])"
   ]
  },
  {
   "cell_type": "code",
   "execution_count": 12,
   "id": "ea845812",
   "metadata": {},
   "outputs": [
    {
     "ename": "AttributeError",
     "evalue": "'Perceptron' object has no attribute 'train'",
     "output_type": "error",
     "traceback": [
      "\u001b[1;31m---------------------------------------------------------------------------\u001b[0m",
      "\u001b[1;31mAttributeError\u001b[0m                            Traceback (most recent call last)",
      "Cell \u001b[1;32mIn[12], line 3\u001b[0m\n\u001b[0;32m      1\u001b[0m \u001b[38;5;66;03m# Create and train the perceptron\u001b[39;00m\n\u001b[0;32m      2\u001b[0m perceptron \u001b[38;5;241m=\u001b[39m Perceptron(input_size\u001b[38;5;241m=\u001b[39m\u001b[38;5;241m2\u001b[39m)\n\u001b[1;32m----> 3\u001b[0m perceptron\u001b[38;5;241m.\u001b[39mtrain(X, y)\n\u001b[0;32m      5\u001b[0m    \u001b[38;5;66;03m# Test the perceptron\u001b[39;00m\n\u001b[0;32m      6\u001b[0m test_input \u001b[38;5;241m=\u001b[39m np\u001b[38;5;241m.\u001b[39marray([[\u001b[38;5;241m0\u001b[39m, \u001b[38;5;241m0\u001b[39m], [\u001b[38;5;241m0\u001b[39m, \u001b[38;5;241m1\u001b[39m], [\u001b[38;5;241m1\u001b[39m, \u001b[38;5;241m0\u001b[39m], [\u001b[38;5;241m1\u001b[39m, \u001b[38;5;241m1\u001b[39m]])\n",
      "\u001b[1;31mAttributeError\u001b[0m: 'Perceptron' object has no attribute 'train'"
     ]
    }
   ],
   "source": [
    " # Create and train the perceptron\n",
    "perceptron = Perceptron(input_size=2)\n",
    "perceptron.train(X, y)\n",
    "\n",
    "    # Test the perceptron\n",
    "test_input = np.array([[0, 0], [0, 1], [1, 0], [1, 1]])\n",
    "predictions = perceptron.predict(test_input)\n",
    "\n",
    "print(\"Predictions:\")\n",
    "for i, prediction in enumerate(predictions):\n",
    "    print(f\"Input: {test_input[i]} => Prediction: {prediction}\")"
   ]
  },
  {
   "cell_type": "code",
   "execution_count": null,
   "id": "ce7f0a19",
   "metadata": {},
   "outputs": [],
   "source": []
  }
 ],
 "metadata": {
  "kernelspec": {
   "display_name": "Python 3 (ipykernel)",
   "language": "python",
   "name": "python3"
  },
  "language_info": {
   "codemirror_mode": {
    "name": "ipython",
    "version": 3
   },
   "file_extension": ".py",
   "mimetype": "text/x-python",
   "name": "python",
   "nbconvert_exporter": "python",
   "pygments_lexer": "ipython3",
   "version": "3.11.5"
  }
 },
 "nbformat": 4,
 "nbformat_minor": 5
}
