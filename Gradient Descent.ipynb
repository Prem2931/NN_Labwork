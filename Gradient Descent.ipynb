{
 "cells": [
  {
   "cell_type": "code",
   "execution_count": 1,
   "id": "e85ba8bb",
   "metadata": {},
   "outputs": [],
   "source": [
    "import numpy as np\n",
    "import pandas as pd"
   ]
  },
  {
   "cell_type": "code",
   "execution_count": 2,
   "id": "b403362a",
   "metadata": {},
   "outputs": [],
   "source": [
    "# Perceptron class with Gradient Descent\n",
    "class PerceptronGD:\n",
    "    def __init__(self, input_size, learning_rate=0.01, epochs=1000):\n",
    "        self.weights = np.zeros(input_size)  # Initialize weights as zeros\n",
    "        self.bias = 0  # Initialize bias as 0\n",
    "        self.learning_rate = learning_rate\n",
    "        self.epochs = epochs"
   ]
  },
  {
   "cell_type": "code",
   "execution_count": 3,
   "id": "aa37661c",
   "metadata": {},
   "outputs": [],
   "source": [
    "# Activation function (Step function)\n",
    "def activation(self, x):\n",
    "    return 1 if x >= 0 else 0"
   ]
  },
  {
   "cell_type": "code",
   "execution_count": 4,
   "id": "d07202c7",
   "metadata": {},
   "outputs": [],
   "source": [
    "# Compute predictions for inputs X\n",
    "def predict(self, X):\n",
    "    return np.array([self.activation(np.dot(inputs, self.weights) + self.bias) for inputs in X])"
   ]
  },
  {
   "cell_type": "code",
   "execution_count": 7,
   "id": "0f209068",
   "metadata": {},
   "outputs": [],
   "source": [
    "# Training the perceptron using Gradient Descent\n",
    "def train(self, X, y):\n",
    "    for _ in range(self.epochs):\n",
    "        for inputs, label in zip(X, y):\n",
    "            weighted_sum = np.dot(inputs, self.weights) + self.bias\n",
    "            prediction = self.activation(weighted_sum)\n",
    "            error = label - prediction"
   ]
  },
  {
   "cell_type": "code",
   "execution_count": 8,
   "id": "e72eece6",
   "metadata": {},
   "outputs": [
    {
     "ename": "NameError",
     "evalue": "name 'self' is not defined",
     "output_type": "error",
     "traceback": [
      "\u001b[1;31m---------------------------------------------------------------------------\u001b[0m",
      "\u001b[1;31mNameError\u001b[0m                                 Traceback (most recent call last)",
      "Cell \u001b[1;32mIn[8], line 2\u001b[0m\n\u001b[0;32m      1\u001b[0m \u001b[38;5;66;03m# Gradient descent update rule\u001b[39;00m\n\u001b[1;32m----> 2\u001b[0m \u001b[38;5;28mself\u001b[39m\u001b[38;5;241m.\u001b[39mweights \u001b[38;5;241m+\u001b[39m\u001b[38;5;241m=\u001b[39m \u001b[38;5;28mself\u001b[39m\u001b[38;5;241m.\u001b[39mlearning_rate \u001b[38;5;241m*\u001b[39m error \u001b[38;5;241m*\u001b[39m inputs\n\u001b[0;32m      3\u001b[0m \u001b[38;5;28mself\u001b[39m\u001b[38;5;241m.\u001b[39mbias \u001b[38;5;241m+\u001b[39m\u001b[38;5;241m=\u001b[39m \u001b[38;5;28mself\u001b[39m\u001b[38;5;241m.\u001b[39mlearning_rate \u001b[38;5;241m*\u001b[39m error\n",
      "\u001b[1;31mNameError\u001b[0m: name 'self' is not defined"
     ]
    }
   ],
   "source": [
    "# Gradient descent update rule\n",
    "self.weights += self.learning_rate * error * inputs\n",
    "self.bias += self.learning_rate * error"
   ]
  },
  {
   "cell_type": "code",
   "execution_count": 9,
   "id": "5ac48b4c",
   "metadata": {},
   "outputs": [],
   "source": [
    "# Convert to a more Pandas-friendly format for easy manipulation\n",
    "def train_pandas(self, X, y):\n",
    "    data = pd.DataFrame(X, columns=[f'feature_{i}' for i in range(X.shape[1])])\n",
    "    data['label'] = y"
   ]
  },
  {
   "cell_type": "code",
   "execution_count": 10,
   "id": "9c504bf2",
   "metadata": {},
   "outputs": [
    {
     "ename": "NameError",
     "evalue": "name 'self' is not defined",
     "output_type": "error",
     "traceback": [
      "\u001b[1;31m---------------------------------------------------------------------------\u001b[0m",
      "\u001b[1;31mNameError\u001b[0m                                 Traceback (most recent call last)",
      "Cell \u001b[1;32mIn[10], line 1\u001b[0m\n\u001b[1;32m----> 1\u001b[0m \u001b[38;5;28;01mfor\u001b[39;00m _ \u001b[38;5;129;01min\u001b[39;00m \u001b[38;5;28mrange\u001b[39m(\u001b[38;5;28mself\u001b[39m\u001b[38;5;241m.\u001b[39mepochs):\n\u001b[0;32m      2\u001b[0m     \u001b[38;5;28;01mfor\u001b[39;00m index, row \u001b[38;5;129;01min\u001b[39;00m data\u001b[38;5;241m.\u001b[39miterrows():\n\u001b[0;32m      3\u001b[0m             inputs \u001b[38;5;241m=\u001b[39m row\u001b[38;5;241m.\u001b[39mdrop(\u001b[38;5;124m'\u001b[39m\u001b[38;5;124mlabel\u001b[39m\u001b[38;5;124m'\u001b[39m)\u001b[38;5;241m.\u001b[39mvalues\n",
      "\u001b[1;31mNameError\u001b[0m: name 'self' is not defined"
     ]
    }
   ],
   "source": [
    "for _ in range(self.epochs):\n",
    "    for index, row in data.iterrows():\n",
    "            inputs = row.drop('label').values\n",
    "            label = row['label']\n",
    "            weighted_sum = np.dot(inputs, self.weights) + self.bias\n",
    "            prediction = self.activation(weighted_sum)"
   ]
  },
  {
   "cell_type": "code",
   "execution_count": 11,
   "id": "66074bfd",
   "metadata": {},
   "outputs": [
    {
     "ename": "NameError",
     "evalue": "name 'self' is not defined",
     "output_type": "error",
     "traceback": [
      "\u001b[1;31m---------------------------------------------------------------------------\u001b[0m",
      "\u001b[1;31mNameError\u001b[0m                                 Traceback (most recent call last)",
      "Cell \u001b[1;32mIn[11], line 2\u001b[0m\n\u001b[0;32m      1\u001b[0m \u001b[38;5;66;03m# Gradient descent update rule\u001b[39;00m\n\u001b[1;32m----> 2\u001b[0m \u001b[38;5;28mself\u001b[39m\u001b[38;5;241m.\u001b[39mweights \u001b[38;5;241m+\u001b[39m\u001b[38;5;241m=\u001b[39m \u001b[38;5;28mself\u001b[39m\u001b[38;5;241m.\u001b[39mlearning_rate \u001b[38;5;241m*\u001b[39m error \u001b[38;5;241m*\u001b[39m inputs\n\u001b[0;32m      3\u001b[0m \u001b[38;5;28mself\u001b[39m\u001b[38;5;241m.\u001b[39mbias \u001b[38;5;241m+\u001b[39m\u001b[38;5;241m=\u001b[39m \u001b[38;5;28mself\u001b[39m\u001b[38;5;241m.\u001b[39mlearning_rate \u001b[38;5;241m*\u001b[39m error\n",
      "\u001b[1;31mNameError\u001b[0m: name 'self' is not defined"
     ]
    }
   ],
   "source": [
    "# Gradient descent update rule\n",
    "self.weights += self.learning_rate * error * inputs\n",
    "self.bias += self.learning_rate * error"
   ]
  },
  {
   "cell_type": "code",
   "execution_count": 12,
   "id": "9126336e",
   "metadata": {},
   "outputs": [],
   "source": [
    "# Example usage\n",
    "if __name__ == \"__main__\":\n",
    "    # Training data (AND logic gate)\n",
    "    X = np.array([[0, 0], [0, 1], [1, 0], [1, 1]])\n",
    "    y = np.array([0, 0, 0, 1])"
   ]
  },
  {
   "cell_type": "code",
   "execution_count": 13,
   "id": "88755e64",
   "metadata": {},
   "outputs": [
    {
     "ename": "AttributeError",
     "evalue": "'PerceptronGD' object has no attribute 'train'",
     "output_type": "error",
     "traceback": [
      "\u001b[1;31m---------------------------------------------------------------------------\u001b[0m",
      "\u001b[1;31mAttributeError\u001b[0m                            Traceback (most recent call last)",
      "Cell \u001b[1;32mIn[13], line 3\u001b[0m\n\u001b[0;32m      1\u001b[0m \u001b[38;5;66;03m# Create and train the perceptron using Gradient Descent\u001b[39;00m\n\u001b[0;32m      2\u001b[0m perceptron_gd \u001b[38;5;241m=\u001b[39m PerceptronGD(input_size\u001b[38;5;241m=\u001b[39m\u001b[38;5;241m2\u001b[39m)\n\u001b[1;32m----> 3\u001b[0m perceptron_gd\u001b[38;5;241m.\u001b[39mtrain(X, y)\n",
      "\u001b[1;31mAttributeError\u001b[0m: 'PerceptronGD' object has no attribute 'train'"
     ]
    }
   ],
   "source": [
    "# Create and train the perceptron using Gradient Descent\n",
    "perceptron_gd = PerceptronGD(input_size=2)\n",
    "perceptron_gd.train(X, y)  # Standard training using NumPy"
   ]
  },
  {
   "cell_type": "code",
   "execution_count": 14,
   "id": "eec0dc57",
   "metadata": {},
   "outputs": [
    {
     "ename": "AttributeError",
     "evalue": "'PerceptronGD' object has no attribute 'predict'",
     "output_type": "error",
     "traceback": [
      "\u001b[1;31m---------------------------------------------------------------------------\u001b[0m",
      "\u001b[1;31mAttributeError\u001b[0m                            Traceback (most recent call last)",
      "Cell \u001b[1;32mIn[14], line 3\u001b[0m\n\u001b[0;32m      1\u001b[0m \u001b[38;5;66;03m# Test the perceptron\u001b[39;00m\n\u001b[0;32m      2\u001b[0m test_input \u001b[38;5;241m=\u001b[39m np\u001b[38;5;241m.\u001b[39marray([[\u001b[38;5;241m0\u001b[39m, \u001b[38;5;241m0\u001b[39m], [\u001b[38;5;241m0\u001b[39m, \u001b[38;5;241m1\u001b[39m], [\u001b[38;5;241m1\u001b[39m, \u001b[38;5;241m0\u001b[39m], [\u001b[38;5;241m1\u001b[39m, \u001b[38;5;241m1\u001b[39m]])\n\u001b[1;32m----> 3\u001b[0m predictions \u001b[38;5;241m=\u001b[39m perceptron_gd\u001b[38;5;241m.\u001b[39mpredict(test_input)\n",
      "\u001b[1;31mAttributeError\u001b[0m: 'PerceptronGD' object has no attribute 'predict'"
     ]
    }
   ],
   "source": [
    "# Test the perceptron\n",
    "test_input = np.array([[0, 0], [0, 1], [1, 0], [1, 1]])\n",
    "predictions = perceptron_gd.predict(test_input)"
   ]
  },
  {
   "cell_type": "code",
   "execution_count": 15,
   "id": "790e3e70",
   "metadata": {},
   "outputs": [
    {
     "name": "stdout",
     "output_type": "stream",
     "text": [
      "Predictions using NumPy:\n"
     ]
    },
    {
     "ename": "NameError",
     "evalue": "name 'predictions' is not defined",
     "output_type": "error",
     "traceback": [
      "\u001b[1;31m---------------------------------------------------------------------------\u001b[0m",
      "\u001b[1;31mNameError\u001b[0m                                 Traceback (most recent call last)",
      "Cell \u001b[1;32mIn[15], line 2\u001b[0m\n\u001b[0;32m      1\u001b[0m \u001b[38;5;28mprint\u001b[39m(\u001b[38;5;124m\"\u001b[39m\u001b[38;5;124mPredictions using NumPy:\u001b[39m\u001b[38;5;124m\"\u001b[39m)\n\u001b[1;32m----> 2\u001b[0m \u001b[38;5;28;01mfor\u001b[39;00m i, prediction \u001b[38;5;129;01min\u001b[39;00m \u001b[38;5;28menumerate\u001b[39m(predictions):\n\u001b[0;32m      3\u001b[0m     \u001b[38;5;28mprint\u001b[39m(\u001b[38;5;124mf\u001b[39m\u001b[38;5;124m\"\u001b[39m\u001b[38;5;124mInput: \u001b[39m\u001b[38;5;132;01m{\u001b[39;00mtest_input[i]\u001b[38;5;132;01m}\u001b[39;00m\u001b[38;5;124m => Prediction: \u001b[39m\u001b[38;5;132;01m{\u001b[39;00mpredictions\u001b[38;5;132;01m}\u001b[39;00m\u001b[38;5;124m\"\u001b[39m)\n",
      "\u001b[1;31mNameError\u001b[0m: name 'predictions' is not defined"
     ]
    }
   ],
   "source": [
    "print(\"Predictions using NumPy:\")\n",
    "for i, prediction in enumerate(predictions):\n",
    "    print(f\"Input: {test_input[i]} => Prediction: {predictions}\")"
   ]
  },
  {
   "cell_type": "code",
   "execution_count": 16,
   "id": "0269883d",
   "metadata": {},
   "outputs": [
    {
     "ename": "AttributeError",
     "evalue": "'PerceptronGD' object has no attribute 'train_pandas'",
     "output_type": "error",
     "traceback": [
      "\u001b[1;31m---------------------------------------------------------------------------\u001b[0m",
      "\u001b[1;31mAttributeError\u001b[0m                            Traceback (most recent call last)",
      "Cell \u001b[1;32mIn[16], line 3\u001b[0m\n\u001b[0;32m      1\u001b[0m \u001b[38;5;66;03m# Create and train the perceptron using Gradient Descent with Pandas\u001b[39;00m\n\u001b[0;32m      2\u001b[0m perceptron_gd_pandas \u001b[38;5;241m=\u001b[39m PerceptronGD(input_size\u001b[38;5;241m=\u001b[39m\u001b[38;5;241m2\u001b[39m)\n\u001b[1;32m----> 3\u001b[0m perceptron_gd_pandas\u001b[38;5;241m.\u001b[39mtrain_pandas(X, y)\n",
      "\u001b[1;31mAttributeError\u001b[0m: 'PerceptronGD' object has no attribute 'train_pandas'"
     ]
    }
   ],
   "source": [
    "# Create and train the perceptron using Gradient Descent with Pandas\n",
    "perceptron_gd_pandas = PerceptronGD(input_size=2)\n",
    "perceptron_gd_pandas.train_pandas(X, y)  # Training using Pandas\n"
   ]
  },
  {
   "cell_type": "code",
   "execution_count": 17,
   "id": "af1906bc",
   "metadata": {},
   "outputs": [
    {
     "ename": "AttributeError",
     "evalue": "'PerceptronGD' object has no attribute 'predict'",
     "output_type": "error",
     "traceback": [
      "\u001b[1;31m---------------------------------------------------------------------------\u001b[0m",
      "\u001b[1;31mAttributeError\u001b[0m                            Traceback (most recent call last)",
      "Cell \u001b[1;32mIn[17], line 2\u001b[0m\n\u001b[0;32m      1\u001b[0m \u001b[38;5;66;03m#Test the perceptron with Pandas approach\u001b[39;00m\n\u001b[1;32m----> 2\u001b[0m predictions_pandas \u001b[38;5;241m=\u001b[39m perceptron_gd_pandas\u001b[38;5;241m.\u001b[39mpredict(test_input)\n\u001b[0;32m      4\u001b[0m \u001b[38;5;28mprint\u001b[39m(\u001b[38;5;124m\"\u001b[39m\u001b[38;5;130;01m\\n\u001b[39;00m\u001b[38;5;124mPredictions using Pandas:\u001b[39m\u001b[38;5;124m\"\u001b[39m)\n\u001b[0;32m      5\u001b[0m \u001b[38;5;28;01mfor\u001b[39;00m i, prediction \u001b[38;5;129;01min\u001b[39;00m \u001b[38;5;28menumerate\u001b[39m(predictions_pandas):\n",
      "\u001b[1;31mAttributeError\u001b[0m: 'PerceptronGD' object has no attribute 'predict'"
     ]
    }
   ],
   "source": [
    " #Test the perceptron with Pandas approach\n",
    "predictions_pandas = perceptron_gd_pandas.predict(test_input)\n",
    "\n",
    "print(\"\\nPredictions using Pandas:\")\n",
    "for i, prediction in enumerate(predictions_pandas):\n",
    "        print(f\"Input: {test_input[i]} => Prediction: {prediction}\")\n"
   ]
  },
  {
   "cell_type": "code",
   "execution_count": null,
   "id": "26553435",
   "metadata": {},
   "outputs": [],
   "source": []
  },
  {
   "cell_type": "code",
   "execution_count": null,
   "id": "d61d8ee1",
   "metadata": {},
   "outputs": [],
   "source": []
  }
 ],
 "metadata": {
  "kernelspec": {
   "display_name": "Python 3 (ipykernel)",
   "language": "python",
   "name": "python3"
  },
  "language_info": {
   "codemirror_mode": {
    "name": "ipython",
    "version": 3
   },
   "file_extension": ".py",
   "mimetype": "text/x-python",
   "name": "python",
   "nbconvert_exporter": "python",
   "pygments_lexer": "ipython3",
   "version": "3.11.5"
  }
 },
 "nbformat": 4,
 "nbformat_minor": 5
}
